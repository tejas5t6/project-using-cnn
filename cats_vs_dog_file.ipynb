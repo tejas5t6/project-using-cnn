{
  "cells": [
    {
      "cell_type": "markdown",
      "metadata": {
        "id": "view-in-github",
        "colab_type": "text"
      },
      "source": [
        "<a href=\"https://colab.research.google.com/github/tejas5t6/project-using-cnn/blob/main/cats_vs_dog_file.ipynb\" target=\"_parent\"><img src=\"https://colab.research.google.com/assets/colab-badge.svg\" alt=\"Open In Colab\"/></a>"
      ]
    },
    {
      "cell_type": "code",
      "source": [
        "# ── STEP 1: Install required libraries\n",
        "!pip install tensorflow tensorflow-datasets gradio --quiet\n",
        "\n",
        "# ── STEP 2: Import modules\n",
        "import tensorflow as tf\n",
        "import tensorflow_datasets as tfds\n",
        "import gradio as gr\n",
        "import os\n",
        "import matplotlib.pyplot as plt\n",
        "\n",
        "# ── STEP 3: Mount Google Drive to save/load model\n",
        "from google.colab import drive\n",
        "drive.mount('/content/drive')\n",
        "\n",
        "model_path = \"/content/drive/MyDrive/cat_dog_mobilenetv2_model.h5\"\n",
        "\n",
        "# ── STEP 4: Preprocessing function\n",
        "def preprocess_binary(image, label):\n",
        "    is_dog = tf.cast(label >= 12, tf.int64)  # Oxford IIIT Pet: dog labels ≥ 12\n",
        "    image = tf.image.resize(image, (180, 180))\n",
        "    image = tf.keras.applications.mobilenet_v2.preprocess_input(image)\n",
        "    return image, is_dog\n",
        "\n",
        "# ── STEP 5: Load and preprocess dataset\n",
        "(train_ds, val_ds), info = tfds.load(\n",
        "    'oxford_iiit_pet',\n",
        "    split=['train[:80%]', 'train[80%:]'],\n",
        "    as_supervised=True,\n",
        "    with_info=True\n",
        ")\n",
        "\n",
        "train_ds = train_ds.map(preprocess_binary).shuffle(1000).batch(32).prefetch(1)\n",
        "val_ds = val_ds.map(preprocess_binary).batch(32).prefetch(1)\n",
        "\n",
        "# ── STEP 6: Build or load model\n",
        "if not os.path.exists(model_path):\n",
        "    print(\"🔧 Training model from scratch using MobileNetV2...\")\n",
        "\n",
        "    base_model = tf.keras.applications.MobileNetV2(\n",
        "        input_shape=(180, 180, 3),\n",
        "        include_top=False,\n",
        "        weights='imagenet'\n",
        "    )\n",
        "    base_model.trainable = False  # Freeze base\n",
        "\n",
        "    model = tf.keras.Sequential([\n",
        "        base_model,\n",
        "        tf.keras.layers.GlobalAveragePooling2D(),\n",
        "        tf.keras.layers.Dense(128, activation='relu'),\n",
        "        tf.keras.layers.Dense(1, activation='sigmoid')\n",
        "    ])\n",
        "\n",
        "    model.compile(optimizer='adam',\n",
        "                  loss='binary_crossentropy',\n",
        "                  metrics=['accuracy'])\n",
        "\n",
        "    # Train the model and store history\n",
        "    history = model.fit(train_ds, validation_data=val_ds, epochs=5)\n",
        "\n",
        "    # Plot accuracy and loss\n",
        "    plt.figure(figsize=(10, 4))\n",
        "    plt.subplot(1, 2, 1)\n",
        "    plt.plot(history.history['accuracy'], label='Train Accuracy')\n",
        "    plt.plot(history.history['val_accuracy'], label='Validation Accuracy')\n",
        "    plt.title('Model Accuracy')\n",
        "    plt.xlabel('Epoch')\n",
        "    plt.ylabel('Accuracy')\n",
        "    plt.legend()\n",
        "\n",
        "    plt.subplot(1, 2, 2)\n",
        "    plt.plot(history.history['loss'], label='Train Loss')\n",
        "    plt.plot(history.history['val_loss'], label='Validation Loss')\n",
        "    plt.title('Model Loss')\n",
        "    plt.xlabel('Epoch')\n",
        "    plt.ylabel('Loss')\n",
        "    plt.legend()\n",
        "    plt.tight_layout()\n",
        "    plt.show()\n",
        "\n",
        "    model.save(model_path)\n",
        "    print(\"✅ Model saved to Drive.\")\n",
        "else:\n",
        "    print(\"📁 Loading model from Drive...\")\n",
        "    model = tf.keras.models.load_model(model_path)\n",
        "    print(\"✅ Model loaded.\")\n",
        "\n",
        "# ── STEP 7: Define prediction function\n",
        "def predict_image(img):\n",
        "    img = tf.image.resize(img, (180, 180))\n",
        "    img = tf.keras.applications.mobilenet_v2.preprocess_input(img)\n",
        "    img = tf.expand_dims(img, 0)\n",
        "    pred = float(model.predict(img)[0][0])\n",
        "    if abs(pred - 0.5) < 0.2:\n",
        "        return \"❌ Invalid image (not a cat or dog)\"\n",
        "    label = \"Dog 🐶\" if pred > 0.5 else \"Cat 🐱\"\n",
        "    confidence = pred if pred > 0.5 else 1 - pred\n",
        "    return f\"✅ {label} ({confidence * 100:.1f}% confidence)\"\n",
        "\n",
        "# ── STEP 8: Launch Gradio app\n",
        "gr.Interface(\n",
        "    fn=predict_image,\n",
        "    inputs=gr.Image(type=\"numpy\", label=\"Take or Upload Image\", sources=[\"upload\", \"webcam\"]),\n",
        "    outputs=gr.Textbox(label=\"Prediction\"),\n",
        "    title=\"Cat vs Dog Classifier 🐾\",\n",
        "    description=\"Webcam enabled | Model saved to Google Drive\"\n",
        ").launch()\n"
      ],
      "metadata": {
        "colab": {
          "base_uri": "https://localhost:8080/",
          "height": 715
        },
        "id": "2hzzlwWZl1ff",
        "outputId": "b5f44b7f-6721-416f-b30b-fc8fc9d3baa3"
      },
      "execution_count": 1,
      "outputs": [
        {
          "output_type": "stream",
          "name": "stdout",
          "text": [
            "Drive already mounted at /content/drive; to attempt to forcibly remount, call drive.mount(\"/content/drive\", force_remount=True).\n",
            "📁 Loading model from Drive...\n"
          ]
        },
        {
          "output_type": "stream",
          "name": "stderr",
          "text": [
            "WARNING:absl:Compiled the loaded model, but the compiled metrics have yet to be built. `model.compile_metrics` will be empty until you train or evaluate the model.\n"
          ]
        },
        {
          "output_type": "stream",
          "name": "stdout",
          "text": [
            "✅ Model loaded.\n",
            "It looks like you are running Gradio on a hosted Jupyter notebook, which requires `share=True`. Automatically setting `share=True` (you can turn this off by setting `share=False` in `launch()` explicitly).\n",
            "\n",
            "Colab notebook detected. To show errors in colab notebook, set debug=True in launch()\n",
            "* Running on public URL: https://32a9fdc83f6b446e82.gradio.live\n",
            "\n",
            "This share link expires in 1 week. For free permanent hosting and GPU upgrades, run `gradio deploy` from the terminal in the working directory to deploy to Hugging Face Spaces (https://huggingface.co/spaces)\n"
          ]
        },
        {
          "output_type": "display_data",
          "data": {
            "text/plain": [
              "<IPython.core.display.HTML object>"
            ],
            "text/html": [
              "<div><iframe src=\"https://32a9fdc83f6b446e82.gradio.live\" width=\"100%\" height=\"500\" allow=\"autoplay; camera; microphone; clipboard-read; clipboard-write;\" frameborder=\"0\" allowfullscreen></iframe></div>"
            ]
          },
          "metadata": {}
        },
        {
          "output_type": "execute_result",
          "data": {
            "text/plain": []
          },
          "metadata": {},
          "execution_count": 1
        }
      ]
    }
  ],
  "metadata": {
    "colab": {
      "provenance": [],
      "gpuType": "T4",
      "authorship_tag": "ABX9TyPzyL/cNErduSDm2ues8kX+",
      "include_colab_link": true
    },
    "kernelspec": {
      "display_name": "Python 3",
      "name": "python3"
    },
    "language_info": {
      "name": "python"
    },
    "accelerator": "GPU"
  },
  "nbformat": 4,
  "nbformat_minor": 0
}